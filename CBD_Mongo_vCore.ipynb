{
 "cells": [
  {
   "cell_type": "code",
   "execution_count": null,
   "metadata": {},
   "outputs": [],
   "source": [
    "! pip install langchain\n",
    "! pip install langchain_openai\n",
    "! pip install langchain_community\n",
    "! pip install pymongo\n",
    "! pip install python-dotenv\n",
    "! pip install azure-core\n",
    "! pip install azure-cosmos"
   ]
  },
  {
   "cell_type": "code",
   "execution_count": 46,
   "metadata": {},
   "outputs": [
    {
     "name": "stderr",
     "output_type": "stream",
     "text": [
      "ERROR: unknown command \"upgrade\"\n",
      "\n"
     ]
    }
   ],
   "source": [
    "! pip upgrade gradio"
   ]
  },
  {
   "cell_type": "code",
   "execution_count": 40,
   "metadata": {},
   "outputs": [],
   "source": [
    "import json\n",
    "import openai\n",
    "import pymongo\n",
    "\n",
    "from dotenv import dotenv_values\n",
    "from openai import AzureOpenAI\n",
    "\n",
    "env_name = \"example.env\" \n",
    "config = dotenv_values(env_name)\n",
    "\n",
    "openai.api_type = config['openai_type']\n",
    "# Azure OpenAI connection details\n",
    "openai_endpoint = config['openai_endpoint']\n",
    "openai_key = config['openai_key']\n",
    "openai_version = config['openai_version']\n",
    "openai_embeddings_deployment = config['openai_embeddings_deployment']\n",
    "openai_embeddings_model = config['openai_embeddings_model']\n",
    "openai_embeddings_dimensions = int(config['openai_embeddings_dimensions'])\n",
    "openai_completions_deployment = config['openai_completions_deployment']\n",
    "openai_completions_model = config['openai_completions_model']\n",
    "cosmos_vector_property = config['cosmos_vector_property_name']"
   ]
  },
  {
   "cell_type": "code",
   "execution_count": 41,
   "metadata": {},
   "outputs": [
    {
     "name": "stdout",
     "output_type": "stream",
     "text": [
      "Using existing collection: 'Contoso'.\n",
      "Using existing collection: 'Contoso West'.\n",
      "Using existing collection: 'Users'.\n"
     ]
    }
   ],
   "source": [
    "# Connection string\n",
    "mongo_conn = config['mongo_vcore_connection_string']\n",
    "mongo_client = pymongo.MongoClient(mongo_conn)\n",
    "\n",
    "# Database name\n",
    "DATABASE_NAME = \"ResturantChain\"\n",
    "db = mongo_client[DATABASE_NAME]\n",
    "\n",
    "# Drop the database if it already exists (consider if this is really needed, as it will remove all existing data)\n",
    "#mongo_client.drop_database(DATABASE_NAME)\n",
    "\n",
    "# Collection names\n",
    "collection_names = [\"Contoso\", \"Contoso West\", \"Users\"]\n",
    "\n",
    "# Iterate through the collection names and create them if they do not exist\n",
    "for collection_name in collection_names:\n",
    "    if collection_name not in db.list_collection_names():\n",
    "        # Creates a collection\n",
    "        db.create_collection(collection_name)\n",
    "        print(f\"Created collection '{collection_name}'.\")\n",
    "    else:\n",
    "        print(f\"Using existing collection: '{collection_name}'.\")"
   ]
  },
  {
   "cell_type": "code",
   "execution_count": 42,
   "metadata": {},
   "outputs": [],
   "source": [
    "db.command({\n",
    "  'createIndexes': 'FoodCollection',\n",
    "  'indexes': [\n",
    "    {\n",
    "      'name': 'vectorSearchIndex',\n",
    "      'key': {\n",
    "        \"Embedding\": \"cosmosSearch\"\n",
    "      },\n",
    "      'cosmosSearchOptions': {\n",
    "        'kind': 'vector-hnsw',\n",
    "        'm': 16,\n",
    "        'efConstruction': 40,\n",
    "        'similarity': 'COS',\n",
    "        'dimensions': 1536\n",
    "      }\n",
    "    }\n",
    "  ]\n",
    "});"
   ]
  },
  {
   "cell_type": "code",
   "execution_count": 43,
   "metadata": {},
   "outputs": [
    {
     "name": "stdout",
     "output_type": "stream",
     "text": [
      "Number of data points added: 29582 in FoodCollection\n"
     ]
    }
   ],
   "source": [
    "import json \n",
    "\n",
    "data_file = open(file=\"./data/results.json\", mode=\"r\") \n",
    "data = json.load(data_file)\n",
    "data_file.close()\n",
    "vcore_collection = db['FoodCollection']\n",
    "result = vcore_collection.insert_many(data)\n",
    "\n",
    "print(f\"Number of data points added: {len(result.inserted_ids)} in {vcore_collection.name}\")"
   ]
  },
  {
   "cell_type": "code",
   "execution_count": 44,
   "metadata": {},
   "outputs": [],
   "source": [
    "from langchain_openai import AzureOpenAIEmbeddings\n",
    "\n",
    "azure_openai_embeddings = AzureOpenAIEmbeddings(\n",
    "    azure_deployment = openai_embeddings_deployment,\n",
    "    api_key= openai_key,\n",
    "    azure_endpoint= openai_endpoint,\n",
    "    model= openai_embeddings_model,\n",
    "    dimensions= openai_embeddings_dimensions,\n",
    ")"
   ]
  },
  {
   "cell_type": "code",
   "execution_count": 51,
   "metadata": {},
   "outputs": [
    {
     "name": "stderr",
     "output_type": "stream",
     "text": [
      "C:\\Users\\Khelan Modi\\AppData\\Local\\Packages\\PythonSoftwareFoundation.Python.3.11_qbz5n2kfra8p0\\LocalCache\\local-packages\\Python311\\site-packages\\langchain_core\\utils\\utils.py:161: UserWarning: WARNING! azure_endpoint is not default parameter.\n",
      "                azure_endpoint was transferred to model_kwargs.\n",
      "                Please confirm that azure_endpoint is what you intended.\n",
      "  warnings.warn(\n"
     ]
    }
   ],
   "source": [
    "from langchain_openai import ChatOpenAI\n",
    "from langchain.chains.retrieval import create_retrieval_chain\n",
    "from langchain.vectorstores.azure_cosmos_db import AzureCosmosDBVectorSearch\n",
    "from langchain.text_splitter import RecursiveCharacterTextSplitter\n",
    "from langchain_core.prompts import ChatPromptTemplate\n",
    "import gradio as gr\n",
    "\n",
    "order_prompt_template = \"\"\"\n",
    "Hello! You can ask me for food recommendations or customize your order according to your preferences.\n",
    "{chat_history},\n",
    "Question: {question}\n",
    "If you don't know what you want yet, feel free to ask for recommendations!\n",
    "\"\"\"\n",
    "\n",
    "chatbot_prompt = ChatPromptTemplate(\n",
    "    template=order_prompt_template,\n",
    "    messages=[],\n",
    "    input_variables=[\"question\", \"chat_history\"]\n",
    ")\n",
    "\n",
    "def prepare_food_ordering_system(azure_endpoint, openai_key, cosmos_conn, azure_openai_embeddings):\n",
    "    llm = ChatOpenAI(\n",
    "        azure_endpoint=azure_endpoint,\n",
    "        api_key=openai_key,\n",
    "        cache=True,\n",
    "        n=1\n",
    "    )\n",
    "    \n",
    "    vector_search = AzureCosmosDBVectorSearch.from_connection_string(\n",
    "        connection_string=cosmos_conn,\n",
    "        namespace=\"RestaurantChain.FoodCollection\",\n",
    "        text_key=\"description\", \n",
    "        embedding = azure_openai_embeddings,\n",
    "        embedding_key = cosmos_vector_property,\n",
    "    )\n",
    "    \n",
    "    retriever = vector_search.as_retriever(search_type=\"similarity\", search_kwargs={\"k\": 5, 'score_threshold': 0.2})\n",
    "    retrieval_chain = create_retrieval_chain(llm, retriever)\n",
    "\n",
    "    return retrieval_chain\n",
    "\n",
    "def setup_gradio_interface(chain):\n",
    "    def fetch_response(question, chat_history):\n",
    "        response = chain.invoke({\"question\": question, \"chat_history\": chat_history})\n",
    "        return response['answer'], chat_history + [question + \" - \" + response['answer']]\n",
    "    \n",
    "    with gr.Blocks() as demo_interface:\n",
    "        chatbot = gr.Chatbot(label=\"Food Ordering System\")\n",
    "        msg = gr.Textbox(label=\"Your question\")\n",
    "        chat_history = gr.State([])\n",
    "        \n",
    "        msg.submit(fetch_response, inputs=[msg, chat_history], outputs=[chatbot, chat_history])\n",
    "    \n",
    "    return demo_interface\n",
    "\n",
    "food_ordering_system = prepare_food_ordering_system(\n",
    "    azure_endpoint=openai_endpoint,\n",
    "    openai_key=openai_key,\n",
    "    cosmos_conn=mongo_conn,\n",
    "    azure_openai_embeddings = azure_openai_embeddings\n",
    ")\n",
    "\n",
    "food_ordering_demo = setup_gradio_interface(food_ordering_system)\n",
    "food_ordering_demo.launch()\n"
   ]
  }
 ],
 "metadata": {
  "kernelspec": {
   "display_name": "Python 3",
   "language": "python",
   "name": "python3"
  },
  "language_info": {
   "codemirror_mode": {
    "name": "ipython",
    "version": 3
   },
   "file_extension": ".py",
   "mimetype": "text/x-python",
   "name": "python",
   "nbconvert_exporter": "python",
   "pygments_lexer": "ipython3",
   "version": "3.11.9"
  }
 },
 "nbformat": 4,
 "nbformat_minor": 2
}
