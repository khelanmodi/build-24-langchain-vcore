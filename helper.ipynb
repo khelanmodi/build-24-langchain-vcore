{
 "cells": [
  {
   "cell_type": "code",
   "execution_count": null,
   "metadata": {},
   "outputs": [],
   "source": []
  },
  {
   "cell_type": "markdown",
   "metadata": {},
   "source": [
    "Langchain documentation code testing"
   ]
  },
  {
   "cell_type": "code",
   "execution_count": null,
   "metadata": {},
   "outputs": [
    {
     "ename": "ModuleNotFoundError",
     "evalue": "No module named 'langchain.community'",
     "output_type": "error",
     "traceback": [
      "\u001b[1;31m---------------------------------------------------------------------------\u001b[0m\n",
      "\u001b[1;31mModuleNotFoundError\u001b[0m                       Traceback (most recent call last)\n",
      "Cell \u001b[1;32mIn[6], line 1\u001b[0m\n",
      "\u001b[1;32m----> 1\u001b[0m \u001b[38;5;28;01mfrom\u001b[39;00m \u001b[38;5;21;01mlangchain\u001b[39;00m\u001b[38;5;21;01m.\u001b[39;00m\u001b[38;5;21;01mcommunity\u001b[39;00m\u001b[38;5;21;01m.\u001b[39;00m\u001b[38;5;21;01mvectorstores\u001b[39;00m\u001b[38;5;21;01m.\u001b[39;00m\u001b[38;5;21;01mazure_cosmosdb\u001b[39;00m \u001b[38;5;28;01mimport\u001b[39;00m AzureCosmosDBVectorStore, AzureCosmosDBSimilarityType\n",
      "\u001b[0;32m      2\u001b[0m \u001b[38;5;28;01mfrom\u001b[39;00m \u001b[38;5;21;01mlangchain\u001b[39;00m\u001b[38;5;21;01m.\u001b[39;00m\u001b[38;5;21;01mcore\u001b[39;00m\u001b[38;5;21;01m.\u001b[39;00m\u001b[38;5;21;01mprompts\u001b[39;00m \u001b[38;5;28;01mimport\u001b[39;00m ChatPromptTemplate\n",
      "\u001b[0;32m      3\u001b[0m \u001b[38;5;28;01mfrom\u001b[39;00m \u001b[38;5;21;01mlangchain\u001b[39;00m\u001b[38;5;21;01m.\u001b[39;00m\u001b[38;5;21;01mopenai\u001b[39;00m \u001b[38;5;28;01mimport\u001b[39;00m ChatOpenAI, OpenAIEmbeddings\n",
      "\n",
      "\u001b[1;31mModuleNotFoundError\u001b[0m: No module named 'langchain.community'"
     ]
    }
   ],
   "source": [
    "from langchain.community.vectorstores.azure_cosmosdb import AzureCosmosDBVectorStore, AzureCosmosDBSimilarityType\n",
    "from langchain.core.prompts import ChatPromptTemplate\n",
    "from langchain.openai import ChatOpenAI, OpenAIEmbeddings\n",
    "from langchain.chains.combine_documents import createStuffDocumentsChain\n",
    "from langchain.chains.retrieval import createRetrievalChain\n",
    "from langchain.document_loaders.fs.text import TextLoader\n",
    "from langchain.text_splitter import RecursiveCharacterTextSplitter\n",
    "\n",
    "# Load documents from file\n",
    "loader = TextLoader(\"./data/state_of_the_union.txt\")\n",
    "raw_documents = loader.load()\n",
    "splitter = RecursiveCharacterTextSplitter(chunkSize=1000, chunkOverlap=0)\n",
    "documents = splitter.splitDocuments(raw_documents)\n",
    "\n",
    "# Create Azure Cosmos DB vector store\n",
    "store = AzureCosmosDBVectorStore.fromDocuments(\n",
    "  documents,\n",
    "  OpenAIEmbeddings(),\n",
    "  databaseName=\"langchain\",\n",
    "  collectionName=\"documents\"\n",
    ")\n",
    "\n",
    "# Create the index\n",
    "numLists = 100\n",
    "dimensions = 1536\n",
    "similarity = AzureCosmosDBSimilarityType.COS\n",
    "store.createIndex(numLists, dimensions, similarity)\n",
    "\n",
    "# Performs a similarity search\n",
    "result_documents = store.similaritySearch(\n",
    "  \"What did the president say about Ketanji Brown Jackson?\"\n",
    ")\n",
    "\n",
    "print(\"Similarity search results:\")\n",
    "print(result_documents[0].pageContent)\n",
    "'''\n",
    "  Tonight. I call on the Senate to: Pass the Freedom to Vote Act. Pass the John Lewis Voting Rights Act. And while you’re at it, pass the Disclose Act so Americans can know who is funding our elections. \n",
    "\n",
    "  Tonight, I’d like to honor someone who has dedicated his life to serve this country: Justice Stephen Breyer—an Army veteran, Constitutional scholar, and retiring Justice of the United States Supreme Court. Justice Breyer, thank you for your service. \n",
    "\n",
    "  One of the most serious constitutional responsibilities a President has is nominating someone to serve on the United States Supreme Court. \n",
    "\n",
    "  And I did that 4 days ago, when I nominated Circuit Court of Appeals Judge Ketanji Brown Jackson. One of our nation’s top legal minds, who will continue Justice Breyer’s legacy of excellence.\n",
    "'''\n",
    "\n",
    "# Use the store as part of a chain\n",
    "model = ChatOpenAI(model=\"gpt-3.5-turbo-1106\")\n",
    "question_answering_prompt = ChatPromptTemplate.fromMessages([\n",
    "  [\n",
    "    \"system\",\n",
    "    \"Answer the user's questions based on the below context:\\n\\n{context}\",\n",
    "  ],\n",
    "  [\"human\", \"{input}\"],\n",
    "])\n",
    "\n",
    "combine_docs_chain = createStuffDocumentsChain(llm=model, prompt=question_answering_prompt)\n",
    "\n",
    "chain = createRetrievalChain(retriever=store.asRetriever(), combineDocsChain=combine_docs_chain)\n",
    "\n",
    "res = chain.invoke(input=\"What is the president's top priority regarding prices?\")\n",
    "\n",
    "print(\"Chain response:\")\n",
    "print(res.answer)\n",
    "'''\n",
    "  The president's top priority is getting prices under control.\n",
    "'''\n",
    "\n",
    "# Clean up\n",
    "store.delete()\n",
    "store.close()\n"
   ]
  }
 ],
 "metadata": {
  "language_info": {
   "name": "python"
  }
 },
 "nbformat": 4,
 "nbformat_minor": 2
}
